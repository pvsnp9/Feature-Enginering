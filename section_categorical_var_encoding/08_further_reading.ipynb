{
 "cells": [
  {
   "cell_type": "markdown",
   "metadata": {},
   "source": [
    "#### Additional Readings \n",
    "\n",
    "**Weight of Evidence**\n",
    "- [WoE Module from statsoft](http://documentation.statsoft.com/portals/0/formula%20guide/Weight%20of%20Evidence%20Formula%20Guide.pdf)\n",
    "- [WoE statistica](http://documentation.statsoft.com/StatisticaHelp.aspx?path=WeightofEvidence/WeightofEvidenceWoEIntroductoryOverview)\n",
    "\n",
    "**Score card development for credit risk**\n",
    "\n",
    "- [Plug and Score](https://plug-n-score.com/learning/scorecard-development-stages.htm#Binning)\n",
    "- [Score card development from SAS](http://www.sas.com/storefront/aux/en/spcrisks/59376_excerpt.pdf)\n",
    "\n",
    "**Alternative methods of categorical variable encoding**\n",
    "\n",
    "- [Will's blog](http://www.willmcginnis.com/2015/11/29/beyond-one-hot-an-exploration-of-categorical-variables/)\n",
    "\n",
    "- [Visiting Categorical Features and Encoding in Decision Trees](https://medium.com/data-design/visiting-categorical-features-and-encoding-in-decision-trees-53400fa65931)\n",
    "\n",
    "- [Feature Engineering: A comprehensive Overview](http://www.trainindatablog.com/feature-engineering-for-machine-learning-comprehensive-overview/)\n",
    "\n",
    "- [Smarter Ways to Encode Categorical Data for Machine Learning](https://towardsdatascience.com/smarter-ways-to-encode-categorical-data-for-machine-learning-part-1-of-3-6dca2f71b159)\n",
    "\n",
    "- [Classification of Tutor systems with high cardinality (KDD competition)](http://pslcdatashop.org/KDDCup/workshop/)\n",
    "\n",
    "- [Light weight solution to KDD data mining challenge](http://pslcdatashop.org/KDDCup/workshop/)\n",
    "\n",
    "\n",
    "**Several encoding and imputation methods described in this course**\n",
    "- [The 2009 Knowledge Discovery in Data Competition (KDD Cup 2009)](http://www.mtome.com/Publications/CiML/CiML-v3-book.pdf)\n"
   ]
  },
  {
   "cell_type": "code",
   "execution_count": null,
   "metadata": {},
   "outputs": [],
   "source": []
  }
 ],
 "metadata": {
  "language_info": {
   "name": "python"
  },
  "orig_nbformat": 4
 },
 "nbformat": 4,
 "nbformat_minor": 2
}
