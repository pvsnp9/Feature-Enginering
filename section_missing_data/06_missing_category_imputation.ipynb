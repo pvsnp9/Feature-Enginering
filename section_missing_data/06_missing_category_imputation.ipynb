{
 "cells": [
  {
   "cell_type": "markdown",
   "metadata": {},
   "source": [
    "#### Arbitrary value imputation for categorical variables\n",
    "\n",
    "This is the most widely used method of missing data imputation for categorical variables. This method consists in treating missing data as an additional label or category of the variable. All the missing observations are grouped in the newly created label 'Missing'.\n",
    "\n",
    "This is in essence, the equivalent of replacing by an arbitrary value for numerical variables.\n",
    "\n",
    "The beauty of this technique resides on the fact that it does not assume anything about the fact that the data is missing. It is very well suited when the number of missing data is high.\n",
    "\n",
    "**Advantages**\n",
    "- Easy to implement\n",
    "- Fast way of obtaining complete datasets\n",
    "- Can be integrated in production (during model deployment)\n",
    "- Captures the importance of \"missingness\" if there is one\n",
    "- No assumption made on the data\n",
    "\n",
    "**Limitations**\n",
    "- If the number of NA is small, creating an additional category may cause trees to over-fit\n",
    "\n",
    "For categorical variables this is the method of choice, as it treats missing values as a separate category, without making any assumption on the variable or the reasons why data could be missing. It is used widely in data science competitions and organisations. See for example the winning solution of the KDD 2009 cup: [\"Winning the KDD Cup Orange Challenge with Ensemble Selection\"](http://www.mtome.com/Publications/CiML/CiML-v3-book.pdf)\n",
    "\n",
    "Dataset: House price "
   ]
  },
  {
   "cell_type": "code",
   "execution_count": 1,
   "metadata": {},
   "outputs": [],
   "source": [
    "import pandas as pd\n",
    "import numpy as np\n",
    "\n",
    "import matplotlib.pyplot as plt\n",
    "\n",
    "# to split the datasets\n",
    "from sklearn.model_selection import train_test_split"
   ]
  },
  {
   "cell_type": "code",
   "execution_count": 2,
   "metadata": {},
   "outputs": [
    {
     "data": {
      "text/html": [
       "<div>\n",
       "<style scoped>\n",
       "    .dataframe tbody tr th:only-of-type {\n",
       "        vertical-align: middle;\n",
       "    }\n",
       "\n",
       "    .dataframe tbody tr th {\n",
       "        vertical-align: top;\n",
       "    }\n",
       "\n",
       "    .dataframe thead th {\n",
       "        text-align: right;\n",
       "    }\n",
       "</style>\n",
       "<table border=\"1\" class=\"dataframe\">\n",
       "  <thead>\n",
       "    <tr style=\"text-align: right;\">\n",
       "      <th></th>\n",
       "      <th>BsmtQual</th>\n",
       "      <th>FireplaceQu</th>\n",
       "      <th>SalePrice</th>\n",
       "    </tr>\n",
       "  </thead>\n",
       "  <tbody>\n",
       "    <tr>\n",
       "      <th>0</th>\n",
       "      <td>Gd</td>\n",
       "      <td>NaN</td>\n",
       "      <td>208500</td>\n",
       "    </tr>\n",
       "    <tr>\n",
       "      <th>1</th>\n",
       "      <td>Gd</td>\n",
       "      <td>TA</td>\n",
       "      <td>181500</td>\n",
       "    </tr>\n",
       "    <tr>\n",
       "      <th>2</th>\n",
       "      <td>Gd</td>\n",
       "      <td>TA</td>\n",
       "      <td>223500</td>\n",
       "    </tr>\n",
       "    <tr>\n",
       "      <th>3</th>\n",
       "      <td>TA</td>\n",
       "      <td>Gd</td>\n",
       "      <td>140000</td>\n",
       "    </tr>\n",
       "    <tr>\n",
       "      <th>4</th>\n",
       "      <td>Gd</td>\n",
       "      <td>TA</td>\n",
       "      <td>250000</td>\n",
       "    </tr>\n",
       "  </tbody>\n",
       "</table>\n",
       "</div>"
      ],
      "text/plain": [
       "  BsmtQual FireplaceQu  SalePrice\n",
       "0       Gd         NaN     208500\n",
       "1       Gd          TA     181500\n",
       "2       Gd          TA     223500\n",
       "3       TA          Gd     140000\n",
       "4       Gd          TA     250000"
      ]
     },
     "execution_count": 2,
     "metadata": {},
     "output_type": "execute_result"
    }
   ],
   "source": [
    "use_columns = ['BsmtQual', 'FireplaceQu', 'SalePrice']\n",
    "\n",
    "data = pd.read_csv('../datasets/houseprice.csv', usecols=use_columns)\n",
    "data.head()"
   ]
  },
  {
   "cell_type": "code",
   "execution_count": 3,
   "metadata": {},
   "outputs": [
    {
     "data": {
      "text/plain": [
       "BsmtQual       0.025342\n",
       "FireplaceQu    0.472603\n",
       "SalePrice      0.000000\n",
       "dtype: float64"
      ]
     },
     "execution_count": 3,
     "metadata": {},
     "output_type": "execute_result"
    }
   ],
   "source": [
    "data.isnull().mean()"
   ]
  },
  {
   "cell_type": "markdown",
   "metadata": {},
   "source": [
    "When replacing NA in categorical variables by a label called 'Missing', we are not learning anything from the training set, so in principle we could do this in the original dataset and then separate into train and test. However, I do not recommend this practice. You will see in later notebooks that splitting into train and test right at the beginning helps with building a machine learning pipeline. So I will continue with this practice here as well."
   ]
  },
  {
   "cell_type": "code",
   "execution_count": 4,
   "metadata": {},
   "outputs": [
    {
     "name": "stdout",
     "output_type": "stream",
     "text": [
      "Train: (1022, 3), test:(438, 3)\n"
     ]
    }
   ],
   "source": [
    "X_train, X_test, y_train, y_test = train_test_split(\n",
    "        data,\n",
    "        data.SalePrice,\n",
    "        test_size=0.3,\n",
    "        random_state=0\n",
    "    )\n",
    "\n",
    "print(f\"Train: {X_train.shape}, test:{X_test.shape}\")"
   ]
  },
  {
   "cell_type": "code",
   "execution_count": 5,
   "metadata": {},
   "outputs": [
    {
     "data": {
      "text/plain": [
       "0.023483365949119372"
      ]
     },
     "execution_count": 5,
     "metadata": {},
     "output_type": "execute_result"
    }
   ],
   "source": [
    "# let's remind ourselves of the % of missing values\n",
    "X_train['BsmtQual'].isnull().mean()"
   ]
  },
  {
   "cell_type": "code",
   "execution_count": 6,
   "metadata": {},
   "outputs": [
    {
     "data": {
      "text/plain": [
       "Text(0, 0.5, 'Number of houses')"
      ]
     },
     "execution_count": 6,
     "metadata": {},
     "output_type": "execute_result"
    },
    {
     "data": {
      "image/png": "[encoded data removed]",
      "text/plain": [
       "<Figure size 432x288 with 1 Axes>"
      ]
     },
     "metadata": {
      "needs_background": "light"
     },
     "output_type": "display_data"
    }
   ],
   "source": [
    "# let's inspect the number of observations per category in BsmtQual\n",
    "\n",
    "# value_counts() counts the amount of houses that show each of the labels\n",
    "# in the variable indicated below\n",
    "\n",
    "X_train['BsmtQual'].value_counts().sort_values(ascending=False).plot.bar()\n",
    "plt.xlabel('BsmtQual')\n",
    "plt.ylabel('Number of houses')"
   ]
  },
  {
   "cell_type": "code",
   "execution_count": 7,
   "metadata": {},
   "outputs": [
    {
     "name": "stderr",
     "output_type": "stream",
     "text": [
      "C:\\Users\\cssar\\miniconda3\\envs\\whiskey_pt\\lib\\site-packages\\pandas\\core\\series.py:4433: SettingWithCopyWarning: \n",
      "A value is trying to be set on a copy of a slice from a DataFrame\n",
      "\n",
      "See the caveats in the documentation: https://pandas.pydata.org/pandas-docs/stable/user_guide/indexing.html#returning-a-view-versus-a-copy\n",
      "  return super().fillna(\n"
     ]
    }
   ],
   "source": [
    "# Let's fill na in both train and test\n",
    "\n",
    "# I use the fillna() method from pandas\n",
    "\n",
    "# with the argument inplace=True, I indicate to pandas\n",
    "# that I want the values replaced in the same dataset\n",
    "\n",
    "X_train['BsmtQual'].fillna('Missing', inplace=True)\n",
    "X_test['BsmtQual'].fillna('Missing', inplace=True)"
   ]
  },
  {
   "cell_type": "code",
   "execution_count": 8,
   "metadata": {},
   "outputs": [
    {
     "data": {
      "text/plain": [
       "Text(0, 0.5, 'Number of houses')"
      ]
     },
     "execution_count": 8,
     "metadata": {},
     "output_type": "execute_result"
    },
    {
     "data": {
      "image/png": "[encoded data removed]",
      "text/plain": [
       "<Figure size 432x288 with 1 Axes>"
      ]
     },
     "metadata": {
      "needs_background": "light"
     },
     "output_type": "display_data"
    }
   ],
   "source": [
    "# let's plot the number of houses per category in the imputed variable\n",
    "\n",
    "X_train['BsmtQual'].value_counts().sort_values(ascending=False).plot.bar()\n",
    "plt.xlabel('BsmtQual')\n",
    "plt.ylabel('Number of houses')"
   ]
  },
  {
   "cell_type": "markdown",
   "metadata": {},
   "source": [
    "We see now the additional category with the missing data: Missing"
   ]
  },
  {
   "cell_type": "code",
   "execution_count": 9,
   "metadata": {},
   "outputs": [
    {
     "data": {
      "text/plain": [
       "<matplotlib.legend.Legend at 0x177bde1d7c0>"
      ]
     },
     "execution_count": 9,
     "metadata": {},
     "output_type": "execute_result"
    },
    {
     "data": {
      "image/png": "[encoded data removed]",
      "text/plain": [
       "<Figure size 432x288 with 1 Axes>"
      ]
     },
     "metadata": {
      "needs_background": "light"
     },
     "output_type": "display_data"
    }
   ],
   "source": [
    "# let's plot the distribution of the target for the houses\n",
    "# that show the different categories of the variable\n",
    "\n",
    "fig = plt.figure()\n",
    "ax = fig.add_subplot(111)\n",
    "\n",
    "# a plot per category\n",
    "X_train[X_train['BsmtQual']=='TA']['SalePrice'].plot(kind='kde', ax=ax)\n",
    "X_train[X_train['BsmtQual']=='Gd']['SalePrice'].plot(kind='kde', ax=ax)\n",
    "X_train[X_train['BsmtQual']=='Ex']['SalePrice'].plot(kind='kde', ax=ax)\n",
    "X_train[X_train['BsmtQual']=='Missing']['SalePrice'].plot(kind='kde', ax=ax)\n",
    "X_train[X_train['BsmtQual']=='Fa']['SalePrice'].plot(kind='kde', ax=ax)\n",
    "\n",
    "# add the legend\n",
    "lines, labels = ax.get_legend_handles_labels()\n",
    "labels = ['TA', 'Gd', 'Ex', 'Missing', 'Fa']\n",
    "ax.legend(lines, labels, loc='best')"
   ]
  },
  {
   "cell_type": "markdown",
   "metadata": {},
   "source": [
    "You can see that the houses with different labels show different distributions of Prices. For example the houses with the label Ex tend to be the most expensive, whereas the houses that show Missing or Fa are the cheapest.\n",
    "\n",
    "**FirePlaceQu**"
   ]
  },
  {
   "cell_type": "code",
   "execution_count": 10,
   "metadata": {},
   "outputs": [
    {
     "data": {
      "text/plain": [
       "0.46771037181996084"
      ]
     },
     "execution_count": 10,
     "metadata": {},
     "output_type": "execute_result"
    }
   ],
   "source": [
    "# let's remind ourselves of the % of missing values\n",
    "X_train['FireplaceQu'].isnull().mean()"
   ]
  },
  {
   "cell_type": "code",
   "execution_count": null,
   "metadata": {},
   "outputs": [],
   "source": []
  }
 ],
 "metadata": {
  "interpreter": {
   "hash": "7f1fe20136675b47db30784a64b23f2f74600804c7b298c8fa67f64368253755"
  },
  "kernelspec": {
   "display_name": "Python 3.9.1 64-bit ('whiskey_pt': conda)",
   "language": "python",
   "name": "python3"
  },
  "language_info": {
   "codemirror_mode": {
    "name": "ipython",
    "version": 3
   },
   "file_extension": ".py",
   "mimetype": "text/x-python",
   "name": "python",
   "nbconvert_exporter": "python",
   "pygments_lexer": "ipython3",
   "version": "3.9.1"
  },
  "orig_nbformat": 4
 },
 "nbformat": 4,
 "nbformat_minor": 2
}
