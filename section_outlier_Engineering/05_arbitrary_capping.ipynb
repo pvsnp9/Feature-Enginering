{
 "cells": [
  {
   "cell_type": "markdown",
   "metadata": {},
   "source": [
    "#### Censoring or Capping\n",
    "\n",
    "Censoring, or capping, means capping the maximum and /or minimum of a distribution at an arbitrary value. On other words, values bigger or smaller than the arbitrarily determined ones are censored.\n",
    "\n",
    "Capping can be done at both tails, or just one of the tails, depending on the variable and the user.\n",
    "\n",
    "The numbers at which to cap the distribution can be determined:\n",
    "\n",
    "- arbitrarily\n",
    "- using the inter-quantal range proximity rule\n",
    "- using the gaussian approximation\n",
    "- using quantiles\n",
    "\n",
    "**Advantages**\n",
    "\n",
    "- does not remove data\n",
    "\n",
    "**Limitations**\n",
    "- distorts the distributions of the variables\n",
    "- distorts the relationships among variables\n",
    "\n",
    "Dataset: House price \n",
    "\n",
    "\n",
    "Arbitrary capping is the process capping outliers with maximum or any random number defined by the user. Most of the time, it is useful and driven by the domain knowledge of subject matter."
   ]
  },
  {
   "cell_type": "code",
   "execution_count": 1,
   "metadata": {},
   "outputs": [],
   "source": [
    "import pandas as pd\n",
    "import numpy as np\n",
    "\n",
    "import matplotlib.pyplot as plt"
   ]
  },
  {
   "cell_type": "code",
   "execution_count": null,
   "metadata": {},
   "outputs": [],
   "source": []
  }
 ],
 "metadata": {
  "interpreter": {
   "hash": "7f1fe20136675b47db30784a64b23f2f74600804c7b298c8fa67f64368253755"
  },
  "kernelspec": {
   "display_name": "Python 3.9.7 64-bit ('whiskey_pt': conda)",
   "language": "python",
   "name": "python3"
  },
  "language_info": {
   "codemirror_mode": {
    "name": "ipython",
    "version": 3
   },
   "file_extension": ".py",
   "mimetype": "text/x-python",
   "name": "python",
   "nbconvert_exporter": "python",
   "pygments_lexer": "ipython3",
   "version": "3.9.7"
  },
  "orig_nbformat": 4
 },
 "nbformat": 4,
 "nbformat_minor": 2
}
